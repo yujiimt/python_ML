{
  "nbformat": 4,
  "nbformat_minor": 0,
  "metadata": {
    "colab": {
      "name": "pytorch_tutorial1.ipynb",
      "provenance": [],
      "authorship_tag": "ABX9TyMeLk1uq+g5iT5ubG/HLElG",
      "include_colab_link": true
    },
    "kernelspec": {
      "name": "python3",
      "display_name": "Python 3"
    }
  },
  "cells": [
    {
      "cell_type": "markdown",
      "metadata": {
        "id": "view-in-github",
        "colab_type": "text"
      },
      "source": [
        "<a href=\"https://colab.research.google.com/github/yujiimt/python_ML/blob/master/pytorch/tutorial/pytorch_tutorial1.ipynb\" target=\"_parent\"><img src=\"https://colab.research.google.com/assets/colab-badge.svg\" alt=\"Open In Colab\"/></a>"
      ]
    },
    {
      "cell_type": "code",
      "metadata": {
        "id": "GhGRR-NmyyBM"
      },
      "source": [
        "from __future__ import print_function\n",
        "import torch\n",
        "import torch.nn as nn\n",
        "import torch.nn.functional as F"
      ],
      "execution_count": 37,
      "outputs": []
    },
    {
      "cell_type": "code",
      "metadata": {
        "colab": {
          "base_uri": "https://localhost:8080/"
        },
        "id": "BEEClVlFy9RX",
        "outputId": "bfe4abb2-279e-4935-f37c-da60e5ee300c"
      },
      "source": [
        "#未初期化テンソル\n",
        "x = torch.empty(5, 3)\n",
        "print(x)"
      ],
      "execution_count": 2,
      "outputs": [
        {
          "output_type": "stream",
          "text": [
            "tensor([[7.0344e-36, 0.0000e+00, 3.3631e-44],\n",
            "        [0.0000e+00,        nan, 6.4460e-44],\n",
            "        [1.1578e+27, 1.1362e+30, 7.1547e+22],\n",
            "        [4.5828e+30, 1.2121e+04, 7.1846e+22],\n",
            "        [9.2198e-39, 7.0374e+22, 0.0000e+00]])\n"
          ],
          "name": "stdout"
        }
      ]
    },
    {
      "cell_type": "code",
      "metadata": {
        "colab": {
          "base_uri": "https://localhost:8080/"
        },
        "id": "EBBx8MpwzElp",
        "outputId": "b09b148e-5a32-48ee-aeb4-b108d5b76634"
      },
      "source": [
        "#乱数テンソル\n",
        "x = torch.rand(5, 3)\n",
        "print(x)"
      ],
      "execution_count": 3,
      "outputs": [
        {
          "output_type": "stream",
          "text": [
            "tensor([[0.4158, 0.5482, 0.2283],\n",
            "        [0.5403, 0.0900, 0.5103],\n",
            "        [0.2486, 0.6215, 0.1532],\n",
            "        [0.3522, 0.0847, 0.4926],\n",
            "        [0.0216, 0.7549, 0.8514]])\n"
          ],
          "name": "stdout"
        }
      ]
    },
    {
      "cell_type": "code",
      "metadata": {
        "colab": {
          "base_uri": "https://localhost:8080/"
        },
        "id": "YPv8VQlizcc8",
        "outputId": "0dfc31e7-c0ce-45bf-fa71-db228f3069c7"
      },
      "source": [
        "#零行列\n",
        "x = torch.zeros(5,3, dtype=torch.long)\n",
        "print(x)"
      ],
      "execution_count": 4,
      "outputs": [
        {
          "output_type": "stream",
          "text": [
            "tensor([[0, 0, 0],\n",
            "        [0, 0, 0],\n",
            "        [0, 0, 0],\n",
            "        [0, 0, 0],\n",
            "        [0, 0, 0]])\n"
          ],
          "name": "stdout"
        }
      ]
    },
    {
      "cell_type": "code",
      "metadata": {
        "colab": {
          "base_uri": "https://localhost:8080/"
        },
        "id": "uYU3wUpQzt4j",
        "outputId": "7675a1c2-54cd-42a0-c935-9bcfa24e6c07"
      },
      "source": [
        "#テンソルの定義\n",
        "x = torch.tensor([5.5, 3])\n",
        "print(x)"
      ],
      "execution_count": 5,
      "outputs": [
        {
          "output_type": "stream",
          "text": [
            "tensor([5.5000, 3.0000])\n"
          ],
          "name": "stdout"
        }
      ]
    },
    {
      "cell_type": "code",
      "metadata": {
        "colab": {
          "base_uri": "https://localhost:8080/"
        },
        "id": "n6Z8lTqsz-4Q",
        "outputId": "44fbdc48-4af4-4479-932f-e2c1ff698854"
      },
      "source": [
        "x = torch.rand(5, 3)\n",
        "print(x)"
      ],
      "execution_count": 7,
      "outputs": [
        {
          "output_type": "stream",
          "text": [
            "tensor([[4.0232e-01, 4.5370e-01, 9.3877e-01],\n",
            "        [5.7569e-01, 7.5556e-03, 5.4645e-02],\n",
            "        [1.9795e-01, 3.8719e-02, 4.7059e-01],\n",
            "        [4.0335e-01, 3.8139e-01, 5.3737e-01],\n",
            "        [7.7981e-04, 8.2307e-01, 3.6951e-01]])\n"
          ],
          "name": "stdout"
        }
      ]
    },
    {
      "cell_type": "code",
      "metadata": {
        "colab": {
          "base_uri": "https://localhost:8080/"
        },
        "id": "_sVK_zep0FBn",
        "outputId": "9cb1c55b-804e-4500-da6e-8716f5b176b9"
      },
      "source": [
        "x.dtype"
      ],
      "execution_count": 8,
      "outputs": [
        {
          "output_type": "execute_result",
          "data": {
            "text/plain": [
              "torch.float32"
            ]
          },
          "metadata": {
            "tags": []
          },
          "execution_count": 8
        }
      ]
    },
    {
      "cell_type": "code",
      "metadata": {
        "colab": {
          "base_uri": "https://localhost:8080/"
        },
        "id": "qxcEaVHE0cCh",
        "outputId": "e88bdefd-ec4a-49c4-892c-625d36c2e197"
      },
      "source": [
        "x = x.new_ones(5,3, dtype=torch.double)\n",
        "print(x)"
      ],
      "execution_count": 9,
      "outputs": [
        {
          "output_type": "stream",
          "text": [
            "tensor([[1., 1., 1.],\n",
            "        [1., 1., 1.],\n",
            "        [1., 1., 1.],\n",
            "        [1., 1., 1.],\n",
            "        [1., 1., 1.]], dtype=torch.float64)\n"
          ],
          "name": "stdout"
        }
      ]
    },
    {
      "cell_type": "code",
      "metadata": {
        "colab": {
          "base_uri": "https://localhost:8080/"
        },
        "id": "Zkb8kxoT0tVM",
        "outputId": "0fbe3fb3-72f8-453f-af58-0d4e8d235cf1"
      },
      "source": [
        "x = torch.rand_like(x, dtype=torch.float)\n",
        "print(x)"
      ],
      "execution_count": 10,
      "outputs": [
        {
          "output_type": "stream",
          "text": [
            "tensor([[0.6691, 0.4369, 0.1179],\n",
            "        [0.3230, 0.1894, 0.8744],\n",
            "        [0.3453, 0.2840, 0.2666],\n",
            "        [0.3843, 0.3813, 0.9746],\n",
            "        [0.8351, 0.1934, 0.8016]])\n"
          ],
          "name": "stdout"
        }
      ]
    },
    {
      "cell_type": "code",
      "metadata": {
        "colab": {
          "base_uri": "https://localhost:8080/"
        },
        "id": "EUi0U-4A07Tc",
        "outputId": "824fd156-6a9f-45ff-e3c0-0b9d2db2df26"
      },
      "source": [
        "print(x.size())"
      ],
      "execution_count": 11,
      "outputs": [
        {
          "output_type": "stream",
          "text": [
            "torch.Size([5, 3])\n"
          ],
          "name": "stdout"
        }
      ]
    },
    {
      "cell_type": "code",
      "metadata": {
        "colab": {
          "base_uri": "https://localhost:8080/"
        },
        "id": "-FzXVcOX0_AH",
        "outputId": "bc055ddf-be3f-48aa-fd78-c89ad56692e1"
      },
      "source": [
        "x = torch.rand(5, 3)\n",
        "y = torch.rand(5, 3)\n",
        "print(x)\n",
        "print(y)"
      ],
      "execution_count": 12,
      "outputs": [
        {
          "output_type": "stream",
          "text": [
            "tensor([[0.9088, 0.1110, 0.2775],\n",
            "        [0.9242, 0.2667, 0.3016],\n",
            "        [0.4252, 0.2294, 0.3298],\n",
            "        [0.0946, 0.3992, 0.2445],\n",
            "        [0.1305, 0.3915, 0.4796]])\n",
            "tensor([[0.1557, 0.1805, 0.7292],\n",
            "        [0.6622, 0.7578, 0.2822],\n",
            "        [0.9170, 0.4606, 0.6055],\n",
            "        [0.6050, 0.7265, 0.1474],\n",
            "        [0.1797, 0.0484, 0.9803]])\n"
          ],
          "name": "stdout"
        }
      ]
    },
    {
      "cell_type": "code",
      "metadata": {
        "colab": {
          "base_uri": "https://localhost:8080/"
        },
        "id": "a90z7V9X1LaA",
        "outputId": "f97dea7f-18d8-48fc-e839-47f48adae431"
      },
      "source": [
        "print(x+y)"
      ],
      "execution_count": 13,
      "outputs": [
        {
          "output_type": "stream",
          "text": [
            "tensor([[1.0645, 0.2915, 1.0066],\n",
            "        [1.5864, 1.0244, 0.5837],\n",
            "        [1.3422, 0.6900, 0.9353],\n",
            "        [0.6996, 1.1257, 0.3919],\n",
            "        [0.3102, 0.4399, 1.4599]])\n"
          ],
          "name": "stdout"
        }
      ]
    },
    {
      "cell_type": "code",
      "metadata": {
        "colab": {
          "base_uri": "https://localhost:8080/"
        },
        "id": "GZWLGiM_1T-I",
        "outputId": "13af54e6-7ac3-4447-9f76-c90216205fea"
      },
      "source": [
        "torch.add(x,y)"
      ],
      "execution_count": 14,
      "outputs": [
        {
          "output_type": "execute_result",
          "data": {
            "text/plain": [
              "tensor([[1.0645, 0.2915, 1.0066],\n",
              "        [1.5864, 1.0244, 0.5837],\n",
              "        [1.3422, 0.6900, 0.9353],\n",
              "        [0.6996, 1.1257, 0.3919],\n",
              "        [0.3102, 0.4399, 1.4599]])"
            ]
          },
          "metadata": {
            "tags": []
          },
          "execution_count": 14
        }
      ]
    },
    {
      "cell_type": "code",
      "metadata": {
        "colab": {
          "base_uri": "https://localhost:8080/"
        },
        "id": "-d6wj9b91YkG",
        "outputId": "7f296eab-0fc9-4513-f356-9fad7b172e51"
      },
      "source": [
        "result = torch.empty(5, 3)\n",
        "torch.add(x, y, out=result)"
      ],
      "execution_count": 15,
      "outputs": [
        {
          "output_type": "execute_result",
          "data": {
            "text/plain": [
              "tensor([[1.0645, 0.2915, 1.0066],\n",
              "        [1.5864, 1.0244, 0.5837],\n",
              "        [1.3422, 0.6900, 0.9353],\n",
              "        [0.6996, 1.1257, 0.3919],\n",
              "        [0.3102, 0.4399, 1.4599]])"
            ]
          },
          "metadata": {
            "tags": []
          },
          "execution_count": 15
        }
      ]
    },
    {
      "cell_type": "code",
      "metadata": {
        "colab": {
          "base_uri": "https://localhost:8080/"
        },
        "id": "XRv4YdTw118U",
        "outputId": "17e4cbbb-7db0-44e8-f83b-69ce0d630592"
      },
      "source": [
        "y.add(x)"
      ],
      "execution_count": 16,
      "outputs": [
        {
          "output_type": "execute_result",
          "data": {
            "text/plain": [
              "tensor([[1.0645, 0.2915, 1.0066],\n",
              "        [1.5864, 1.0244, 0.5837],\n",
              "        [1.3422, 0.6900, 0.9353],\n",
              "        [0.6996, 1.1257, 0.3919],\n",
              "        [0.3102, 0.4399, 1.4599]])"
            ]
          },
          "metadata": {
            "tags": []
          },
          "execution_count": 16
        }
      ]
    },
    {
      "cell_type": "code",
      "metadata": {
        "colab": {
          "base_uri": "https://localhost:8080/"
        },
        "id": "mUivUUxA2GIz",
        "outputId": "f914e5c1-f74a-44dc-dce0-f8408944f57d"
      },
      "source": [
        "# テンソルの計算過程を記録する\n",
        "x = torch.ones(2, 2, requires_grad=True)\n",
        "print(x)"
      ],
      "execution_count": 17,
      "outputs": [
        {
          "output_type": "stream",
          "text": [
            "tensor([[1., 1.],\n",
            "        [1., 1.]], requires_grad=True)\n"
          ],
          "name": "stdout"
        }
      ]
    },
    {
      "cell_type": "code",
      "metadata": {
        "id": "uAX2XZn42qDj"
      },
      "source": [
        "y = torch.rand(2,2)\n",
        "z = torch.add(x, y)"
      ],
      "execution_count": 21,
      "outputs": []
    },
    {
      "cell_type": "code",
      "metadata": {
        "colab": {
          "base_uri": "https://localhost:8080/"
        },
        "id": "WUy12dQW22Mi",
        "outputId": "91ec491b-1619-43b0-824f-92237d375cc1"
      },
      "source": [
        "print(z.grad_fn)"
      ],
      "execution_count": 22,
      "outputs": [
        {
          "output_type": "stream",
          "text": [
            "<AddBackward0 object at 0x7f15ad10aba8>\n"
          ],
          "name": "stdout"
        }
      ]
    },
    {
      "cell_type": "code",
      "metadata": {
        "id": "5TXNVH8A3dR9"
      },
      "source": [
        "out = z * z * 3\n",
        "result = out.mean()"
      ],
      "execution_count": 23,
      "outputs": []
    },
    {
      "cell_type": "code",
      "metadata": {
        "colab": {
          "base_uri": "https://localhost:8080/"
        },
        "id": "VTgmJOk836pn",
        "outputId": "15adaa34-dcc2-4cf5-9b2f-2b9c06ad3ed2"
      },
      "source": [
        "print(out, result)"
      ],
      "execution_count": 24,
      "outputs": [
        {
          "output_type": "stream",
          "text": [
            "tensor([[6.5261, 9.0725],\n",
            "        [3.8372, 4.1247]], grad_fn=<MulBackward0>) tensor(5.8901, grad_fn=<MeanBackward0>)\n"
          ],
          "name": "stdout"
        }
      ]
    },
    {
      "cell_type": "code",
      "metadata": {
        "colab": {
          "base_uri": "https://localhost:8080/"
        },
        "id": "HSNsV88338o8",
        "outputId": "2e80206b-deb5-465f-f77e-42eefb59e394"
      },
      "source": [
        "a = torch.randn(2, 2)\n",
        "a = ((a * 3) / (a - 1))\n",
        "print(a.requires_grad)"
      ],
      "execution_count": 25,
      "outputs": [
        {
          "output_type": "stream",
          "text": [
            "False\n"
          ],
          "name": "stdout"
        }
      ]
    },
    {
      "cell_type": "code",
      "metadata": {
        "colab": {
          "base_uri": "https://localhost:8080/"
        },
        "id": "x90aIE5T4kj1",
        "outputId": "bc76ac0e-4088-4ddd-8524-c6592bcf3d1e"
      },
      "source": [
        "a.requires_grad_(True)"
      ],
      "execution_count": 26,
      "outputs": [
        {
          "output_type": "execute_result",
          "data": {
            "text/plain": [
              "tensor([[ 1.5220, -6.7775],\n",
              "        [ 0.8128, -0.9636]], requires_grad=True)"
            ]
          },
          "metadata": {
            "tags": []
          },
          "execution_count": 26
        }
      ]
    },
    {
      "cell_type": "code",
      "metadata": {
        "colab": {
          "base_uri": "https://localhost:8080/"
        },
        "id": "nvbRnXk94o6k",
        "outputId": "44e4cbc2-8306-4eeb-fc99-24fa0ff18aae"
      },
      "source": [
        "print(a.requires_grad)"
      ],
      "execution_count": 27,
      "outputs": [
        {
          "output_type": "stream",
          "text": [
            "True\n"
          ],
          "name": "stdout"
        }
      ]
    },
    {
      "cell_type": "code",
      "metadata": {
        "colab": {
          "base_uri": "https://localhost:8080/"
        },
        "id": "niZS1U304sIa",
        "outputId": "b5cfea59-0ef3-4473-cac9-cc8509debf72"
      },
      "source": [
        "b = (a * a).sum()\n",
        "print(b.grad_fn)"
      ],
      "execution_count": 28,
      "outputs": [
        {
          "output_type": "stream",
          "text": [
            "<SumBackward0 object at 0x7f15ad05e748>\n"
          ],
          "name": "stdout"
        }
      ]
    },
    {
      "cell_type": "code",
      "metadata": {
        "colab": {
          "base_uri": "https://localhost:8080/"
        },
        "id": "nAMnWzeZ40Xk",
        "outputId": "7216830f-19ce-49c2-980e-59e226725898"
      },
      "source": [
        "print(result)"
      ],
      "execution_count": 29,
      "outputs": [
        {
          "output_type": "stream",
          "text": [
            "tensor(5.8901, grad_fn=<MeanBackward0>)\n"
          ],
          "name": "stdout"
        }
      ]
    },
    {
      "cell_type": "code",
      "metadata": {
        "id": "gbF6tmay5Z6G"
      },
      "source": [
        "result.backward()"
      ],
      "execution_count": 31,
      "outputs": []
    },
    {
      "cell_type": "code",
      "metadata": {
        "colab": {
          "base_uri": "https://localhost:8080/"
        },
        "id": "l7dTTWLr5kyn",
        "outputId": "badd99dd-4ea0-46cd-ae7a-2976210b938d"
      },
      "source": [
        "print(x)"
      ],
      "execution_count": 32,
      "outputs": [
        {
          "output_type": "stream",
          "text": [
            "tensor([[1., 1.],\n",
            "        [1., 1.]], requires_grad=True)\n"
          ],
          "name": "stdout"
        }
      ]
    },
    {
      "cell_type": "code",
      "metadata": {
        "colab": {
          "base_uri": "https://localhost:8080/"
        },
        "id": "WElRAfIC5sks",
        "outputId": "d4ccea42-d2fd-4942-a452-bf9d5e200e0c"
      },
      "source": [
        "print(x.grad)"
      ],
      "execution_count": 33,
      "outputs": [
        {
          "output_type": "stream",
          "text": [
            "tensor([[2.2124, 2.6085],\n",
            "        [1.6964, 1.7588]])\n"
          ],
          "name": "stdout"
        }
      ]
    },
    {
      "cell_type": "code",
      "metadata": {
        "colab": {
          "base_uri": "https://localhost:8080/"
        },
        "id": "ccu4rel45ud5",
        "outputId": "11e94092-1e88-498b-bb3e-743fb7ce893a"
      },
      "source": [
        "x = torch.randn(3, requires_grad=True)\n",
        "y = x * 2\n",
        "while y.data.norm() < 1000:\n",
        "  y = y * 2\n",
        "print(y)"
      ],
      "execution_count": 34,
      "outputs": [
        {
          "output_type": "stream",
          "text": [
            "tensor([-129.0565, 1641.8359, -763.0583], grad_fn=<MulBackward0>)\n"
          ],
          "name": "stdout"
        }
      ]
    },
    {
      "cell_type": "code",
      "metadata": {
        "colab": {
          "base_uri": "https://localhost:8080/"
        },
        "id": "A_qIaX1v6dFd",
        "outputId": "8d4e464e-3d02-4d45-d296-e68b632f634d"
      },
      "source": [
        "v = torch.tensor([0.1, 1.0, 0.0001], dtype=torch.float)\n",
        "y.backward(v)\n",
        "print(x.grad)"
      ],
      "execution_count": 35,
      "outputs": [
        {
          "output_type": "stream",
          "text": [
            "tensor([2.0480e+02, 2.0480e+03, 2.0480e-01])\n"
          ],
          "name": "stdout"
        }
      ]
    },
    {
      "cell_type": "code",
      "metadata": {
        "colab": {
          "base_uri": "https://localhost:8080/"
        },
        "id": "Ye7Wr9jw6-QL",
        "outputId": "d4ab2b11-2db5-455c-ef4d-fbfa9b76c48f"
      },
      "source": [
        "print(x.requires_grad)\n"
      ],
      "execution_count": 36,
      "outputs": [
        {
          "output_type": "stream",
          "text": [
            "True\n"
          ],
          "name": "stdout"
        }
      ]
    },
    {
      "cell_type": "code",
      "metadata": {
        "id": "_qaV_u8N7Pt_"
      },
      "source": [
        "class Net(nn.Module):\n",
        "\n",
        "  def __init__(self):\n",
        "    super(Net, self).__init__()\n",
        "    # 1 input image channel, 6 output channels, 3x3 square convolution\n",
        "    # kernel\n",
        "    self.conv1 = nn.Conv2d(1, 6, 3)\n",
        "    self.conv2 = nn.Conv2d(6, 16, 3)\n",
        "    # an affine operation: y = Wx + b\n",
        "    self.fc1 = nn.Linear(16 * 6 * 6, 120)\n",
        "    self.fc2 = nn.Linear(120, 84)\n",
        "    self.fc3 = nn.Linear(84, 10)\n",
        "  \n",
        "  def forward(self, x):\n",
        "    #max pooling over a (2, 2) window\n",
        "    x = F.max_pool2d(F.relu(self.conv1(x)), (2, 2))\n",
        "    # if the size is a square you can only specify a single numble\n",
        "    x = F.max_pool2d(F.relu(self.conv2(x)), 2)\n",
        "    x = x.view(-1, self.num_flat_features(x))\n",
        "    x = F.relu(self.fc1(x))\n",
        "    x = F.relu(self.fc2(x))\n",
        "    x = self.fc3(x)\n",
        "    return x\n",
        "\n",
        "  def num_flat_features(self, x):\n",
        "    size = x.size()[1:]\n",
        "    num_features = 1\n",
        "    for s in size:\n",
        "      num_features *= s\n",
        "    return num_features"
      ],
      "execution_count": 42,
      "outputs": []
    },
    {
      "cell_type": "code",
      "metadata": {
        "colab": {
          "base_uri": "https://localhost:8080/"
        },
        "id": "y0HC6mRr-6Ef",
        "outputId": "18d8510a-d1fa-465c-fe4e-e4ed23c6ec7b"
      },
      "source": [
        "net = Net()\n",
        "print(net)"
      ],
      "execution_count": 43,
      "outputs": [
        {
          "output_type": "stream",
          "text": [
            "Net(\n",
            "  (conv1): Conv2d(1, 6, kernel_size=(3, 3), stride=(1, 1))\n",
            "  (conv2): Conv2d(6, 16, kernel_size=(3, 3), stride=(1, 1))\n",
            "  (fc1): Linear(in_features=576, out_features=120, bias=True)\n",
            "  (fc2): Linear(in_features=120, out_features=84, bias=True)\n",
            "  (fc3): Linear(in_features=84, out_features=10, bias=True)\n",
            ")\n"
          ],
          "name": "stdout"
        }
      ]
    },
    {
      "cell_type": "code",
      "metadata": {
        "colab": {
          "base_uri": "https://localhost:8080/"
        },
        "id": "3vU2TNzx-9Gr",
        "outputId": "9f26cef7-400e-4a48-d025-a21eb308fc72"
      },
      "source": [
        "input = torch.randn(1, 1, 32, 32)\n",
        "out = net(input)\n",
        "print(out)"
      ],
      "execution_count": 44,
      "outputs": [
        {
          "output_type": "stream",
          "text": [
            "tensor([[-0.0932, -0.1346, -0.0097,  0.0389,  0.0244,  0.1301, -0.2005,  0.0438,\n",
            "          0.0561,  0.0093]], grad_fn=<AddmmBackward>)\n"
          ],
          "name": "stdout"
        }
      ]
    },
    {
      "cell_type": "code",
      "metadata": {
        "id": "Iy8bQoqpBOms"
      },
      "source": [
        "net.zero_grad()\n",
        "out.backward(torch.randn(1, 10))"
      ],
      "execution_count": 45,
      "outputs": []
    },
    {
      "cell_type": "code",
      "metadata": {
        "colab": {
          "base_uri": "https://localhost:8080/"
        },
        "id": "tzUW0wdgCElD",
        "outputId": "96eb34a7-499d-4e73-edf4-a966efa96eed"
      },
      "source": [
        "# 損失関数　\n",
        "output = net(input)\n",
        "target = torch.randn(10)\n",
        "target = target.view(1, -1)\n",
        "criterion = nn.MSELoss()\n",
        "\n",
        "loss = criterion(output, target)\n",
        "print(loss)"
      ],
      "execution_count": 46,
      "outputs": [
        {
          "output_type": "stream",
          "text": [
            "tensor(1.1432, grad_fn=<MseLossBackward>)\n"
          ],
          "name": "stdout"
        }
      ]
    },
    {
      "cell_type": "code",
      "metadata": {
        "colab": {
          "base_uri": "https://localhost:8080/"
        },
        "id": "LMW2DHMTQo41",
        "outputId": "20e37501-3664-4eb3-8e70-61bf22e6be33"
      },
      "source": [
        "# backprop\n",
        "\n",
        "#勾配を0に\n",
        "net.zero_grad()\n",
        "\n",
        "print(\"conv1.bias.grad before backward\")\n",
        "print(net.conv1.bias.grad)\n",
        "#逆伝播前のconv1の勾配\n",
        "\n",
        "loss.backward()\n",
        "#逆伝播\n",
        "\n",
        "print(\"conv1.bias.grad.after backward\")\n",
        "print(net.conv1.bias.grad)"
      ],
      "execution_count": 47,
      "outputs": [
        {
          "output_type": "stream",
          "text": [
            "conv1.bias.grad before backward\n",
            "tensor([0., 0., 0., 0., 0., 0.])\n",
            "conv1.bias.grad.after backward\n",
            "tensor([ 0.0092, -0.0090, -0.0134, -0.0083,  0.0287,  0.0084])\n"
          ],
          "name": "stdout"
        }
      ]
    },
    {
      "cell_type": "code",
      "metadata": {
        "id": "GohEwGjKRm7d"
      },
      "source": [
        "# weight = weight - learning_rate * gradient\n",
        "learning_rate = 0.01\n",
        "for f in net.parameters():\n",
        "  f.data.sub_(f.grad.data * learning_rate)"
      ],
      "execution_count": 48,
      "outputs": []
    },
    {
      "cell_type": "code",
      "metadata": {
        "id": "NWCmV6sjSMP2"
      },
      "source": [
        "#最適化のアルゴリズムを使う場合\n",
        "import torch.optim as optim\n",
        "\n",
        "#最適化アルゴリズムの作成\n",
        "optimizer = optim.SGD(net.parameters(), lr=0.01)\n",
        "\n",
        "#in your training loop\n",
        "optimizer.zero_grad()\n",
        "output = net(input)\n",
        "loss = criterion(output, target)\n",
        "loss.backward()\n",
        "optimizer.step()"
      ],
      "execution_count": 49,
      "outputs": []
    },
    {
      "cell_type": "code",
      "metadata": {
        "id": "dB9eWtb2TL4N"
      },
      "source": [
        ""
      ],
      "execution_count": null,
      "outputs": []
    }
  ]
}