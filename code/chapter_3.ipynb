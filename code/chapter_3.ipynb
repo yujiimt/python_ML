{
 "cells": [
  {
   "cell_type": "code",
   "execution_count": 1,
   "metadata": {},
   "outputs": [],
   "source": [
    "import numpy as np"
   ]
  },
  {
   "cell_type": "code",
   "execution_count": 4,
   "metadata": {},
   "outputs": [],
   "source": [
    "w = np.array([ [5.0], [3.0]])\n",
    "x = np.array([ [1.0, 5.0]])\n",
    "\n",
    "zeros = np.zeros([1,5])\n",
    "ones = np.ones([1,5])"
   ]
  },
  {
   "cell_type": "code",
   "execution_count": 5,
   "metadata": {},
   "outputs": [
    {
     "data": {
      "text/plain": [
       "array([[5.],\n",
       "       [3.]])"
      ]
     },
     "execution_count": 5,
     "metadata": {},
     "output_type": "execute_result"
    }
   ],
   "source": [
    "w"
   ]
  },
  {
   "cell_type": "code",
   "execution_count": 7,
   "metadata": {},
   "outputs": [
    {
     "data": {
      "text/plain": [
       "array([[1., 5.]])"
      ]
     },
     "execution_count": 7,
     "metadata": {},
     "output_type": "execute_result"
    }
   ],
   "source": [
    "x"
   ]
  },
  {
   "cell_type": "code",
   "execution_count": 8,
   "metadata": {},
   "outputs": [
    {
     "data": {
      "text/plain": [
       "array([[0., 0., 0., 0., 0.]])"
      ]
     },
     "execution_count": 8,
     "metadata": {},
     "output_type": "execute_result"
    }
   ],
   "source": [
    "zeros"
   ]
  },
  {
   "cell_type": "code",
   "execution_count": 9,
   "metadata": {},
   "outputs": [
    {
     "data": {
      "text/plain": [
       "array([[1., 1., 1., 1., 1.]])"
      ]
     },
     "execution_count": 9,
     "metadata": {},
     "output_type": "execute_result"
    }
   ],
   "source": [
    "ones"
   ]
  },
  {
   "cell_type": "code",
   "execution_count": 10,
   "metadata": {},
   "outputs": [],
   "source": [
    "#一様分布、正規分布に従ってランダムに生成\n",
    "uniform = np.random.rand(1,5)\n",
    "\n",
    "normal = np.random.normal(size=[1,5])"
   ]
  },
  {
   "cell_type": "code",
   "execution_count": 11,
   "metadata": {},
   "outputs": [
    {
     "data": {
      "text/plain": [
       "array([[0.56015562, 0.83794218, 0.89775028, 0.99615876, 0.76644129]])"
      ]
     },
     "execution_count": 11,
     "metadata": {},
     "output_type": "execute_result"
    }
   ],
   "source": [
    "uniform"
   ]
  },
  {
   "cell_type": "code",
   "execution_count": 12,
   "metadata": {},
   "outputs": [
    {
     "data": {
      "text/plain": [
       "array([[-0.0064534 , -0.52609751, -0.9288304 ,  0.37919497, -0.02396856]])"
      ]
     },
     "execution_count": 12,
     "metadata": {},
     "output_type": "execute_result"
    }
   ],
   "source": [
    "normal"
   ]
  },
  {
   "cell_type": "code",
   "execution_count": 15,
   "metadata": {},
   "outputs": [
    {
     "name": "stdout",
     "output_type": "stream",
     "text": [
      "[[20.]]\n",
      "[[34.]]\n"
     ]
    }
   ],
   "source": [
    "#内積の計算\n",
    "xw = np.matmul(x,w)\n",
    "print(xw)\n",
    "\n",
    "#w のノルムの計算\n",
    "ww = np.matmul(w.T, w)\n",
    "print(ww)"
   ]
  },
  {
   "cell_type": "code",
   "execution_count": 17,
   "metadata": {},
   "outputs": [
    {
     "name": "stdout",
     "output_type": "stream",
     "text": [
      "[[1. 2.]\n",
      " [2. 4.]\n",
      " [3. 6.]]\n",
      "---------------\n",
      "[[1. 2.]]\n",
      "---------------\n",
      "[[2.]\n",
      " [4.]\n",
      " [6.]]\n"
     ]
    }
   ],
   "source": [
    "X = np.array([ [1.0, 2.0], [2.0, 4.0], [3.0, 6.0] ])\n",
    "print(X)\n",
    "print(\"-\"*15)\n",
    "#1行2列の取り出し（行ベクトル）\n",
    "Xrow1 = X[[0], :]\n",
    "print(Xrow1)\n",
    "print(\"-\"*15)\n",
    "\n",
    "#3行１列の取り出し（列ベクトル）\n",
    "Xrow2 =X[:, [1]]\n",
    "print(Xrow2)"
   ]
  },
  {
   "cell_type": "code",
   "execution_count": 20,
   "metadata": {},
   "outputs": [
    {
     "name": "stdout",
     "output_type": "stream",
     "text": [
      "[[12.]\n",
      " [23.]\n",
      " [34.]]\n"
     ]
    }
   ],
   "source": [
    "b = np.array([[1.0], [1.0], [1.0]])\n",
    "\n",
    "#行列とベクトルの積と和\n",
    "res = np.matmul(X, w) + b\n",
    "print(res)"
   ]
  },
  {
   "cell_type": "code",
   "execution_count": 23,
   "metadata": {},
   "outputs": [
    {
     "name": "stdout",
     "output_type": "stream",
     "text": [
      "rankA2\n",
      "rankB1\n",
      "行列A）ランク:2\n",
      "逆行列:\n",
      "[[ 0.19230769 -0.07692308]\n",
      " [-0.07692308  0.23076923]]\n",
      "\n",
      "行列B）ランク:1,特異行列\n",
      "\n"
     ]
    }
   ],
   "source": [
    "A = np.array([ [6.0, 2.0 ],  [2.0, 5.0]])\n",
    "B = np.array( [[6.0, 3.0], [2.0, 1.0]])\n",
    "\n",
    "#行列のランクの計算\n",
    "rankA = np.linalg.matrix_rank(A)\n",
    "rankB = np.linalg.matrix_rank(B)\n",
    "\n",
    "print(f\"rankA{rankA}\")\n",
    "print(f\"rankB{rankB}\")\n",
    "\n",
    "\n",
    "#Aの逆行列\n",
    "if rankA == len(A):\n",
    "    invA = np.linalg.inv(A)\n",
    "    print(f\"行列A）ランク:{rankA}\\n逆行列:\\n{invA}\\n\")\n",
    "else:\n",
    "    print(f\"行列A）ランク:{rankA},特異行列\\n\")\n",
    "    \n",
    "#Bの逆行列\n",
    "if rankB == len(B):\n",
    "    invB = np.linalg.inv(B)\n",
    "    print(f\"行列B）ランク:{rankB}\\n逆行列:\\n{invB}\\n\")\n",
    "else:\n",
    "    print(f\"行列B）ランク:{rankB},特異行列\\n\")"
   ]
  },
  {
   "cell_type": "code",
   "execution_count": 24,
   "metadata": {},
   "outputs": [
    {
     "name": "stdout",
     "output_type": "stream",
     "text": [
      "25.99999999999999\n",
      "0.0\n"
     ]
    }
   ],
   "source": [
    "#行列式\n",
    "detA = np.linalg.det(A)\n",
    "print(detA)\n",
    "detB = np.linalg.det(B)\n",
    "print(detB)"
   ]
  },
  {
   "cell_type": "code",
   "execution_count": 27,
   "metadata": {},
   "outputs": [
    {
     "name": "stdout",
     "output_type": "stream",
     "text": [
      "行列Aの固有値:\n",
      "[ 5. -1.]\n",
      "\n",
      "行列Aの固有ベクトル:\n",
      "[[ 0.70710678 -0.4472136 ]\n",
      " [ 0.70710678  0.89442719]]\n",
      "\n",
      "固有ベクトルの内積:[[0.31622777]]\n",
      "\n",
      "固有値の和:4.0\n",
      "\n",
      "行列Aのトレース（対角成分の和）:4\n",
      "\n",
      "固有値の積:-5.0\n",
      "\n",
      "行列Aの行列式:-5.0\n",
      "\n",
      "行列Vの逆行列:\n",
      "[[ 0.94280904  0.47140452]\n",
      " [-0.74535599  0.74535599]]\n",
      "\n",
      "行列Vの転置:\n",
      "[[ 0.70710678  0.70710678]\n",
      " [-0.4472136   0.89442719]]\n",
      "\n"
     ]
    }
   ],
   "source": [
    "#固有値問題\n",
    "A = np.array([[3,2], [4, 1]])\n",
    "\n",
    "\n",
    "# 固有値問題の解\n",
    "L , V = np.linalg.eig(A)\n",
    "\n",
    "print(f\"行列Aの固有値:\\n{L}\\n\")\n",
    "\n",
    "print(f\"行列Aの固有ベクトル:\\n{V}\\n\")\n",
    "\n",
    "print(f\"固有ベクトルの内積:{np.matmul(V[:,[0]].T,V[:,[1]])}\\n\")\n",
    "\n",
    "print(f\"固有値の和:{np.sum(L)}\\n\")\n",
    "\n",
    "print(f\"行列Aのトレース（対角成分の和）:{np.sum(np.diag(A))}\\n\")\n",
    "\n",
    "print(f\"固有値の積:{np.prod(L)}\\n\")\n",
    "\n",
    "print(f\"行列Aの行列式:{np.linalg.det(A):.1f}\\n\")\n",
    "\n",
    "print(f\"行列Vの逆行列:\\n{np.linalg.inv(V)}\\n\")\n",
    "\n",
    "print(f\"行列Vの転置:\\n{V.T}\\n\")"
   ]
  },
  {
   "cell_type": "code",
   "execution_count": 29,
   "metadata": {},
   "outputs": [
    {
     "name": "stdout",
     "output_type": "stream",
     "text": [
      "wの解[[-0.07142857]\n",
      " [-1.71428571]]\n"
     ]
    }
   ],
   "source": [
    "A = np.array([ [2, -3],  [4, 1]])\n",
    "\n",
    "b = np.array([ [5], [-2]])\n",
    "\n",
    "\n",
    "\n",
    "#行列式が非ゼロか否かを確認\n",
    "if np.linalg.det(A) != 0:\n",
    "    # Aの逆行列とベクトルbの積から解を求める\n",
    "    w = np.matmul(np.linalg.inv(A), b)\n",
    "    print(f\"wの解{w}\")\n",
    "else:\n",
    "    print(\"解が存在しません\")"
   ]
  },
  {
   "cell_type": "code",
   "execution_count": 30,
   "metadata": {},
   "outputs": [
    {
     "name": "stdout",
     "output_type": "stream",
     "text": [
      "反復: 0, w=1.00\n",
      "反復: 1, w=0.40\n",
      "反復: 2, w=0.30\n",
      "反復: 3, w=0.25\n",
      "反復: 4, w=0.21\n",
      "反復: 5, w=0.18\n",
      "反復: 6, w=0.16\n",
      "反復: 7, w=0.15\n",
      "反復: 8, w=0.13\n",
      "反復: 9, w=0.12\n",
      "反復: 10, w=0.11\n",
      "反復: 11, w=0.11\n",
      "反復: 12, w=0.10\n",
      "反復: 13, w=0.09\n",
      "反復: 14, w=0.09\n",
      "反復: 15, w=0.08\n",
      "反復: 16, w=0.08\n",
      "反復: 17, w=0.08\n",
      "反復: 18, w=0.07\n",
      "反復: 19, w=0.07\n",
      "反復: 20, w=0.07\n",
      "反復: 21, w=0.06\n",
      "反復: 22, w=0.06\n",
      "反復: 23, w=0.06\n",
      "反復: 24, w=0.06\n",
      "反復: 25, w=0.06\n",
      "反復: 26, w=0.05\n",
      "反復: 27, w=0.05\n",
      "反復: 28, w=0.05\n",
      "反復: 29, w=0.05\n",
      "反復: 30, w=0.05\n",
      "反復: 31, w=0.05\n",
      "反復: 32, w=0.04\n",
      "反復: 33, w=0.04\n",
      "反復: 34, w=0.04\n",
      "反復: 35, w=0.04\n",
      "反復: 36, w=0.04\n",
      "反復: 37, w=0.04\n",
      "反復: 38, w=0.04\n",
      "反復: 39, w=0.04\n",
      "反復: 40, w=0.04\n",
      "反復: 41, w=0.04\n",
      "反復: 42, w=0.03\n",
      "反復: 43, w=0.03\n",
      "反復: 44, w=0.03\n",
      "反復: 45, w=0.03\n",
      "反復: 46, w=0.03\n",
      "反復: 47, w=0.03\n",
      "反復: 48, w=0.03\n",
      "反復: 49, w=0.03\n"
     ]
    }
   ],
   "source": [
    "#学習率の設定\n",
    "alpha = 0.2\n",
    "\n",
    "#パラメーターの初期化\n",
    "w = 1\n",
    "\n",
    "\n",
    "for ite in range(50):\n",
    "    print(f\"反復: {ite}, w={round(w, 2):.2f}\")\n",
    "    \n",
    "    #最急降下法によるパラメーターの更新\n",
    "    w -= alpha * 3 * w**2"
   ]
  },
  {
   "cell_type": "code",
   "execution_count": 31,
   "metadata": {},
   "outputs": [
    {
     "name": "stdout",
     "output_type": "stream",
     "text": [
      "データX1:\n",
      "[1 0 0 1 0 0 1 0 0 0]\n",
      "データX2:\n",
      "[0 0 0 1 0 0 1 0 0 1]\n",
      "データX3:\n",
      "[0 0 0 0 1 0 0 1 1 0]\n"
     ]
    }
   ],
   "source": [
    "# p = 6 / 13 (青色のボールの確率)のベルヌーイ分布に従って１０回試行を行う\n",
    "\n",
    "X1 = np.random.binomial(1, 6/13, 10)\n",
    "X2 = np.random.binomial(1, 6/13, 10)\n",
    "X3 = np.random.binomial(1, 6/13, 10)\n",
    "\n",
    "\n",
    "print(f\"データX1:\\n{X1}\")\n",
    "print(f\"データX2:\\n{X2}\")\n",
    "print(f\"データX3:\\n{X3}\")"
   ]
  },
  {
   "cell_type": "code",
   "execution_count": null,
   "metadata": {},
   "outputs": [],
   "source": [
    "# 正規分布に従ったランダ\n",
    "\n",
    "#平均０、分散１の正規分布に従って１０回試行を行う\n",
    "X1 = np.random.normal(0, 1, 10)\n",
    "\n",
    "\n",
    "#平均3,分散１の正規分布に従って１０回試行を行う\n",
    "X2 = np.random.normal(3, 1,  10)\n",
    "\n",
    "\n",
    "#平均-3、ぶんさいn"
   ]
  }
 ],
 "metadata": {
  "kernelspec": {
   "display_name": "Python 3",
   "language": "python",
   "name": "python3"
  },
  "language_info": {
   "codemirror_mode": {
    "name": "ipython",
    "version": 3
   },
   "file_extension": ".py",
   "mimetype": "text/x-python",
   "name": "python",
   "nbconvert_exporter": "python",
   "pygments_lexer": "ipython3",
   "version": "3.7.7"
  }
 },
 "nbformat": 4,
 "nbformat_minor": 4
}
