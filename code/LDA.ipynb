{
 "cells": [
  {
   "cell_type": "code",
   "execution_count": 1,
   "metadata": {},
   "outputs": [],
   "source": [
    "import numpy as np\n",
    "import matplotlib.pylab as plt"
   ]
  },
  {
   "cell_type": "code",
   "execution_count": null,
   "metadata": {},
   "outputs": [],
   "source": [
    "class LDA():\n",
    "    \"\"\"\n",
    "    1.学習データの設定と全体及び各カテゴリの平均の計算\n",
    "    X:　入力データの設定（データの数＊次元数 numpy.ndarray）\n",
    "    Y: 出力データ（データ数＊１のnumpy.ndarray）   \n",
    "    \"\"\"\n",
    "    \n",
    "    def __init__(self, X, Y):\n",
    "        slef.X = X\n",
    "        self.Y = Y\n",
    "        # 学習データ数\n",
    "        self.dNum = X.shape[0]\n",
    "        #入力の次元数\n",
    "        self.xDim = X.shape[1]\n",
    "        \n",
    "        \n",
    "        # 各カテゴリに属する入力データ\n",
    "        self.Xneg = X[Y[:,  0] == -1]\n",
    "        self.Xops = X[Y[:, 0] == 1]\n",
    "        \n",
    "        \n",
    "        #全体および各カテゴリに属するデータの平均\n",
    "        self.m = np.mean(self.X, axis = 0, keepdims = True)\n",
    "        self.mNeg  = np.mean(self.Xneg, axis=0, keepdims = True)\n",
    "        self.mPos = np.mean(self.Xpos, axis=0, keepdims = True)\n",
    "        \n",
    "        \n",
    "        # 2. 固定値問題によるモデルパラメーターの最適化\n",
    "        def train(self):\n",
    "            # カテゴリ間分散共分散行列Sinterの計算\n",
    "            \n",
    "            Sinter = np.matmul((self.mNeg - self.mPos).T, self.mNeg - self.mPos)\n",
    "            \n",
    "            #各カテゴリ内分散共分散行列Sintra の計算\n",
    "            Xneg = self.Xneg - self.mNeg\n",
    "            Xpos= self.Xpos - self.mPos\n",
    "            Sintra = np.matmul(Xneg.T, Xneg) + np.matmul(Xpos.T, Xpos)\n",
    "            \n",
    "            \n",
    "            #固有値問題を解き、最大固有値の固有ベクトルを獲得\n",
    "            [L, V]  = np.linalg.eig(np.matmul(np.linalg.inv(Sintra), Sintra))\n",
    "            self.w = V[:, [np.argmax(L)]]\n",
    "            \n",
    "        # 3  予測\n",
    "        # X : 入力データ（データ数＊次元数のnumpy,ndarray）"
   ]
  }
 ],
 "metadata": {
  "kernelspec": {
   "display_name": "Python 3",
   "language": "python",
   "name": "python3"
  },
  "language_info": {
   "codemirror_mode": {
    "name": "ipython",
    "version": 3
   },
   "file_extension": ".py",
   "mimetype": "text/x-python",
   "name": "python",
   "nbconvert_exporter": "python",
   "pygments_lexer": "ipython3",
   "version": "3.7.7"
  }
 },
 "nbformat": 4,
 "nbformat_minor": 4
}
